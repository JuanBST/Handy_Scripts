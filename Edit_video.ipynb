{
 "cells": [
  {
   "cell_type": "code",
   "execution_count": null,
   "metadata": {},
   "outputs": [],
   "source": [
    "# pip install opencv-python"
   ]
  },
  {
   "cell_type": "code",
   "execution_count": 2,
   "metadata": {},
   "outputs": [],
   "source": [
    "import cv2 \n",
    "import numpy as np\n"
   ]
  },
  {
   "cell_type": "code",
   "execution_count": 3,
   "metadata": {},
   "outputs": [],
   "source": [
    "video = cv2.VideoCapture(r'C:\\Users\\juan.quintero\\Videos\\Captures\\PremiumOptimizer.mp4')\n",
    "\n",
    "width = 1200\n",
    "height = 750\n",
    "\n",
    "#Define the VideoWriter Object**\n",
    "fourcc = cv2.VideoWriter_fourcc(*'mp4v') #or use 'XVID'\n",
    "out = cv2.VideoWriter(r'C:\\Users\\juan.quintero\\Videos\\Captures\\output.mp4',fourcc, 20.0, (width, height))\n",
    "\n",
    "# Read Each Frame and Resize It**\n",
    "while True:\n",
    "     # Capture frame-by-frame\n",
    "     ret, frame = video.read()\n",
    "\n",
    "     if ret == True: \n",
    "       # Resize frame\n",
    "       resized_frame = cv2.resize(frame, (width, height)) \n",
    "\n",
    "       # write the resized frame\n",
    "       out.write(resized_frame)\n",
    "\n",
    "       # Display the resulting frame (optional)\n",
    "       cv2.imshow('Resized Video', resized_frame)\n",
    "\n",
    "       if cv2.waitKey(1) & 0xFF == ord('q'): # press q to exit\n",
    "         break\n",
    "     else:\n",
    "       break\n",
    "\n",
    "# Release the VideoCapture and VideoWriter objects once done\n",
    "video.release()\n",
    "out.release()\n",
    "\n",
    "# Closes all the frames\n",
    "cv2.destroyAllWindows() \n",
    "\n"
   ]
  }
 ],
 "metadata": {
  "kernelspec": {
   "display_name": "Python 3",
   "language": "python",
   "name": "python3"
  },
  "language_info": {
   "codemirror_mode": {
    "name": "ipython",
    "version": 3
   },
   "file_extension": ".py",
   "mimetype": "text/x-python",
   "name": "python",
   "nbconvert_exporter": "python",
   "pygments_lexer": "ipython3",
   "version": "3.9.13"
  }
 },
 "nbformat": 4,
 "nbformat_minor": 2
}
