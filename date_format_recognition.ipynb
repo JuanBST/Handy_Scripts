{
 "cells": [
  {
   "cell_type": "code",
   "execution_count": 9,
   "metadata": {},
   "outputs": [
    {
     "name": "stdout",
     "output_type": "stream",
     "text": [
      "   DOB1  DOB2  DOB3  DOB4     Name  Score\n",
      "0    28    23    23    36    Alice     53\n",
      "1    38    33    43    26      Bob     53\n",
      "2    48    43    73    23  Charlie     53\n"
     ]
    },
    {
     "name": "stderr",
     "output_type": "stream",
     "text": [
      "C:\\Users\\JuanChamieQuintero\\AppData\\Local\\Temp\\ipykernel_26072\\1629205222.py:25: UserWarning: Could not infer format, so each element will be parsed individually, falling back to `dateutil`. To ensure parsing is consistent and as-expected, please specify a format.\n",
      "  df[col] = pd.to_datetime(df[col], errors='coerce')\n"
     ]
    }
   ],
   "source": [
    "import pandas as pd\n",
    "from datetime import datetime\n",
    "\n",
    "def is_date(string, fuzzy=False):\n",
    "    \"\"\"\n",
    "    Return whether the string can be interpreted as a date.\n",
    "    \"\"\"\n",
    "    try: \n",
    "        pd.to_datetime(string, errors='raise')\n",
    "        return True\n",
    "\n",
    "    except ValueError:\n",
    "        return False\n",
    "\n",
    "def convert_dob_to_age(df):\n",
    "    current_year = datetime.now().year\n",
    "    \n",
    "    # Iterate through each column\n",
    "    for col in df.columns:\n",
    "        \n",
    "        # Check if the column contains date type values\n",
    "        if df[col].apply(is_date).all():\n",
    "            \n",
    "            # Convert to datetime format\n",
    "            df[col] = pd.to_datetime(df[col], errors='coerce')\n",
    "            \n",
    "            # Convert dates to age\n",
    "            df[col] = current_year - df[col].dt.year\n",
    "            \n",
    "            \n",
    "    return df\n",
    "\n",
    "\n",
    "# Sample dataframe\n",
    "data = {\n",
    "    'DOB1': ['1995-02-15', '1985-10-10', '1975-05-05'],\n",
    "    'DOB2': ['20000601', '19900820', '19800915'],\n",
    "    'DOB3': ['01 JUN 2000', '08 DEC 1980', '09 OCT 1950'],\n",
    "    'DOB4': ['01/25/1987', '11/01/1997', '06/30/2000'],\n",
    "    'Name': ['Alice', 'Bob', 'Charlie'],\n",
    "    'Score': [85, 90, 75]\n",
    "}\n",
    "\n",
    "df = pd.DataFrame(data)\n",
    "df = convert_dob_to_age(df)\n",
    "print(df)"
   ]
  },
  {
   "cell_type": "markdown",
   "metadata": {},
   "source": [
    "Multiple Options"
   ]
  },
  {
   "cell_type": "code",
   "execution_count": 10,
   "metadata": {},
   "outputs": [
    {
     "name": "stdout",
     "output_type": "stream",
     "text": [
      "         DOB1      DOB2         DOB3        DOB4 Name  Score\n",
      "0  1995-02-15  20000601  01 JUN 2000  01/25/1987  QWE    865\n",
      "1  1985-10-10  19900820  08 DEC 1980  11/01/1997  GFD    950\n",
      "2  1975-05-05  19800915  09 OCT 1950  06/30/2000  TGN    754\n",
      "   DOB1  DOB2  DOB3  DOB4 Name  Score\n",
      "0    28    23    23    36  QWE    865\n",
      "1    38    33    43    26  GFD    950\n",
      "2    48    43    73    23  TGN    754\n"
     ]
    }
   ],
   "source": [
    "import pandas as pd\n",
    "from datetime import datetime\n",
    "\n",
    "# Sample dataframe\n",
    "data = {\n",
    "    'DOB1': ['1995-02-15', '1985-10-10', '1975-05-05'],\n",
    "    'DOB2': ['20000601', '19900820', '19800915'],\n",
    "    'DOB3': ['01 JUN 2000', '08 DEC 1980', '09 OCT 1950'],\n",
    "    'DOB4': ['01/25/1987', '11/01/1997', '06/30/2000'],\n",
    "    'Name': ['QWE', 'GFD', 'TGN'],\n",
    "    'Score': [865, 950, 754]\n",
    "}\n",
    "\n",
    "df = pd.DataFrame(data)\n",
    "print(df)\n",
    "\n",
    "\n",
    "possible_date_formats = [\n",
    "    \"%Y-%m-%d\",         # 2023-09-15\n",
    "    \"%m/%d/%Y\",         # 09/15/2023\n",
    "    \"%m-%d-%Y\",         # 09-15-2023\n",
    "    \"%b %d, %Y\",        # Sep 15, 2023\n",
    "    \"%B %d, %Y\",        # September 15, 2023\n",
    "    \"%d/%m/%Y\",         # 15/09/2023\n",
    "    \"%d-%m-%Y\",         # 15-09-2023\n",
    "    \"%d.%m.%Y\",         # 15.09.2023\n",
    "    \"%Y%m%d\",           # 20230915\n",
    "    \"%d %b %Y\",         # 15 Sep 2023\n",
    "    \"%d %B %Y\",         # 15 September 2023\n",
    "    \"%Y-%m-%d %H:%M:%S\",# 2023-09-15 12:30:45\n",
    "    \"%m/%d/%Y %I:%M %p\",# 09/15/2023 12:30 PM\n",
    "    \"%d/%m/%Y %H:%M\",   # 15/09/2023 12:30\n",
    "    \"%A, %d %B %Y\",     # Friday, 15 September 2023\n",
    "    \"%Y-%m-%d %H:%M:%S %Z\", # 2023-09-15 12:30:45 UTC\n",
    "    \"%a, %b %d, %Y\"     # Fri, Sep 15, 2023\n",
    "]\n",
    "\n",
    "current_year = datetime.now().year\n",
    "\n",
    "# Convert columns to age if they contain date values\n",
    "for col in df.columns:\n",
    "    # Only process columns of type 'object'\n",
    "    if df[col].dtype == 'object':\n",
    "        for date_format in possible_date_formats:\n",
    "            try:\n",
    "                # Convert column to datetime using the specific format\n",
    "                temp_col = pd.to_datetime(df[col], format=date_format, errors='raise')\n",
    "                df[col] = current_year - temp_col.dt.year\n",
    "                break  # Break the inner loop if conversion was successful\n",
    "            except:\n",
    "                continue  # Continue to the next date format if this one failed\n",
    "\n",
    "print(df)"
   ]
  }
 ],
 "metadata": {
  "kernelspec": {
   "display_name": "Python 3",
   "language": "python",
   "name": "python3"
  },
  "language_info": {
   "codemirror_mode": {
    "name": "ipython",
    "version": 3
   },
   "file_extension": ".py",
   "mimetype": "text/x-python",
   "name": "python",
   "nbconvert_exporter": "python",
   "pygments_lexer": "ipython3",
   "version": "3.8.8"
  },
  "orig_nbformat": 4
 },
 "nbformat": 4,
 "nbformat_minor": 2
}
